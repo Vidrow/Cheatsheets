{
  "nbformat": 4,
  "nbformat_minor": 0,
  "metadata": {
    "colab": {
      "name": "Seaborn_Cheatsheet.ipynb",
      "provenance": [],
      "collapsed_sections": []
    },
    "kernelspec": {
      "name": "python3",
      "display_name": "Python 3"
    },
    "language_info": {
      "name": "python"
    }
  },
  "cells": [
    {
      "cell_type": "markdown",
      "source": [
        "**SEABORN**"
      ],
      "metadata": {
        "id": "6DdS5sHbDb8w"
      }
    },
    {
      "cell_type": "code",
      "execution_count": null,
      "metadata": {
        "id": "yHQWte4fCASX"
      },
      "outputs": [],
      "source": [
        "import seaborn as sns\n",
        "import matplotlib.pyplot as plt\n",
        "import numpy as np\n",
        "import pandas as pd"
      ]
    },
    {
      "cell_type": "markdown",
      "source": [
        "***SCATTER PLOT***<br>\n",
        "x-axis ==> numerical data<br>\n",
        "y-axis ==> numerical data"
      ],
      "metadata": {
        "id": "qCLkDK4wELy4"
      }
    },
    {
      "cell_type": "code",
      "source": [
        "plt.style.use(\"fivethirtyeight\") #this is just for styling\n",
        "\n",
        "toy= sns.load_dataset(\"tips\") #tips is a toy dataset builtin seaborn\n",
        "\n",
        "#using relplot() (mostly used)\n",
        "#the x and y parameters are numerical and other parameter is categorical\n",
        "\n",
        "sns.relplot(x=\"total_bill\" , y=\"tip\" , kind=\"scatter\",size='smoker',hue='sex',style='day' , data=toy)\n",
        "\n",
        "#using scatterplot()\n",
        "sns.scatterplot(x=\"total_bill\" , y=\"tip\",size='smoker',hue='sex',style='day' , data=toy)\n",
        "\n",
        "\n",
        "#These parameters are used for more info and visual display\n",
        "# hue,style,size\n"
      ],
      "metadata": {
        "id": "i0N8HyktERt2"
      },
      "execution_count": null,
      "outputs": []
    },
    {
      "cell_type": "code",
      "source": [
        "toy.head()"
      ],
      "metadata": {
        "id": "r6pMaoVgHO0W"
      },
      "execution_count": null,
      "outputs": []
    },
    {
      "cell_type": "markdown",
      "source": [
        "***PLOTTING WITH CATEGORICAL DATA***<br>\n",
        "CATPLOT (figure level function)\n"
      ],
      "metadata": {
        "id": "n3MsoXTBI325"
      }
    },
    {
      "cell_type": "markdown",
      "source": [
        "1.Categorical Scatter Plot :\n",
        "   \n",
        "   x-axis ==> categorical data<br>\n",
        "   y-axis ==> numerical data"
      ],
      "metadata": {
        "id": "WTwYsM23JUy-"
      }
    },
    {
      "cell_type": "code",
      "source": [
        "#stripplot() (axis level function)\n",
        "\n",
        "#sns.stripplot(x=\"day\" , y=\"tip\" ,jitter=1, data=toy ) #jitter is for spacing \n",
        "\n",
        "#swarmplot()(axis level function)\n",
        "#this gives better distribution\n",
        "\n",
        "sns.catplot(x=\"day\" , y=\"total_bill\" , data=toy)"
      ],
      "metadata": {
        "id": "ufSBZPfUI7w-"
      },
      "execution_count": null,
      "outputs": []
    },
    {
      "cell_type": "markdown",
      "source": [
        "2. Categorical Distribution Plot"
      ],
      "metadata": {
        "id": "mWdu0ZpeQ6lP"
      }
    },
    {
      "cell_type": "markdown",
      "source": [
        "a) Boxplot"
      ],
      "metadata": {
        "id": "GkmR7JBTRAyE"
      }
    },
    {
      "cell_type": "code",
      "source": [
        "#Univariate\n",
        "sns.boxplot(toy['total_bill'])\n",
        "\n",
        "#Multivariate\n",
        "sns.boxplot(x=toy[\"day\"],y=toy['tip'],hue=toy[\"sex\"])\n",
        "\n",
        "#Using figure level function\n",
        "sns.catplot(x='day',y='total_bill',hue='sex',kind='box',data=toy)"
      ],
      "metadata": {
        "id": "6kVC_4DXW7WY"
      },
      "execution_count": null,
      "outputs": []
    },
    {
      "cell_type": "markdown",
      "source": [
        "b)Violinplot"
      ],
      "metadata": {
        "id": "wA3tVwDeRJ2E"
      }
    },
    {
      "cell_type": "code",
      "source": [
        "#Univariate\n",
        "sns.violinplot(toy['total_bill'])\n",
        "\n",
        "#Multivariate\n",
        "sns.violinplot(x=toy[\"day\"],y=toy['tip'],hue=toy[\"sex\"])\n",
        "\n",
        "#Using figure level function\n",
        "sns.catplot(x='day',y='total_bill',hue='sex',kind='violin',split=True,data=toy) #split=True uses the space efficiently\n"
      ],
      "metadata": {
        "id": "qPQMfC5FZc9p"
      },
      "execution_count": null,
      "outputs": []
    },
    {
      "cell_type": "markdown",
      "source": [
        "3. Categorical Estimate Plot"
      ],
      "metadata": {
        "id": "BnPSBPHoax2w"
      }
    },
    {
      "cell_type": "markdown",
      "source": [
        "a) Barplot"
      ],
      "metadata": {
        "id": "tdB5V8F7a4J1"
      }
    },
    {
      "cell_type": "code",
      "source": [
        "#Univariate\n",
        "sns.barplot(toy['total_bill'])\n",
        "\n",
        "#Multivariate\n",
        "sns.barplot(x=toy[\"day\"],y=toy['tip'],hue=toy[\"sex\"])\n",
        "\n",
        "#Using figure level function\n",
        "sns.catplot(x='day',y='total_bill',hue='sex',kind='bar',estimator=np.std,data=toy) #estimator \n"
      ],
      "metadata": {
        "id": "bv75Z2eDcDf3"
      },
      "execution_count": null,
      "outputs": []
    },
    {
      "cell_type": "markdown",
      "source": [
        "b) Countplot<br>\n",
        "Show the counts of observations in each categorical bin using bars.\n",
        "\n",
        "A count plot can be thought of as a histogram across a categorical, instead\n",
        "of quantitative, variable."
      ],
      "metadata": {
        "id": "QIYcp2JpeImV"
      }
    },
    {
      "cell_type": "code",
      "source": [
        "#using axis level function\n",
        "sns.countplot(toy['day'])\n",
        "\n",
        "#using figure level function\n",
        "sns.catplot(x='day',hue='sex',kind='count',data=toy)\n"
      ],
      "metadata": {
        "id": "q4HwiOE2eKku"
      },
      "execution_count": null,
      "outputs": []
    },
    {
      "cell_type": "markdown",
      "source": [
        "4. Categorical Categorical Plot"
      ],
      "metadata": {
        "id": "fxMBvYYqhH-j"
      }
    },
    {
      "cell_type": "markdown",
      "source": [
        "a) Heatmaps<br>\n",
        "It is graphical representation of data where individual values contained in a matrix are represented as colors."
      ],
      "metadata": {
        "id": "c72PF0l1hgub"
      }
    },
    {
      "cell_type": "code",
      "source": [
        "flight = sns.load_dataset('flights')\n",
        "\n",
        "x=flight.pivot_table(index=\"year\" ,columns=\"month\",values=\"passengers\",aggfunc=\"sum\")\n",
        "\n",
        "sns.heatmap(x,cmap='summer',linewidth='0.3',annot=True,fmt='d',cbar=False)"
      ],
      "metadata": {
        "id": "g7Fjtdmihq-I"
      },
      "execution_count": null,
      "outputs": []
    },
    {
      "cell_type": "markdown",
      "source": [
        "b) Clustermaps<br>\n",
        "It is hierarchically-clustered heatmap."
      ],
      "metadata": {
        "id": "3PMZYkcKhjEG"
      }
    },
    {
      "cell_type": "code",
      "source": [
        "sns.clustermap(x,cmap='summer',z_score=0,annot=True,cbar=False,col_cluster=False)"
      ],
      "metadata": {
        "id": "a8IdX6pIhryw"
      },
      "execution_count": null,
      "outputs": []
    },
    {
      "cell_type": "markdown",
      "source": [
        "***JOINTPLOT***<br>\n",
        "Jointplot creates a multi-panel figure which shows both bivariate relationship between two variables and univariate distribution of each on seperate axes."
      ],
      "metadata": {
        "id": "QMgvxKs7q-HT"
      }
    },
    {
      "cell_type": "code",
      "source": [
        "#scatter\n",
        "sns.jointplot(x='tip',y='total_bill',data=toy)\n",
        "\n",
        "#hexbin\n",
        "sns.jointplot(x='tip',y='total_bill',kind='hex',data=toy)\n",
        "\n",
        "#kde (contour plot)\n",
        "sns.jointplot(x='tip',y='total_bill',kind='kde',data=toy)\n",
        "\n",
        "#regression plot\n",
        "sns.jointplot(x='tip',y='total_bill',kind='reg',data=toy)"
      ],
      "metadata": {
        "id": "bA_3CRvbrqTl"
      },
      "execution_count": null,
      "outputs": []
    },
    {
      "cell_type": "markdown",
      "source": [
        "***PAIRPLOT***<br>\n",
        "It is used to plot multiple pairwise bivariate distribution of dataset. This shows relationship between each column in dataframe as graph matrix. By default it also draws the univariate distribution of each variable on diagonal axes.\n",
        "\n"
      ],
      "metadata": {
        "id": "_2RoEw5NvNpl"
      }
    },
    {
      "cell_type": "code",
      "source": [
        "iris = sns.load_dataset(\"iris\")\n",
        "\n",
        "sns.pairplot(iris ,hue=\"species\")"
      ],
      "metadata": {
        "id": "DbhuIT_YwJud"
      },
      "execution_count": null,
      "outputs": []
    },
    {
      "cell_type": "markdown",
      "source": [
        "***DISTPLOT***<br>\n",
        "Distplot are used to do univariate analysis on continues numerical data.<br>\n",
        "\n",
        "It combines three things in one graph .\n",
        "\n",
        "1.   Histogram\n",
        "2.   Kernel Density Estimation(PDF)\n",
        "3.   Rugplot\n",
        "\n"
      ],
      "metadata": {
        "id": "N0ZZsn7cxw2u"
      }
    },
    {
      "cell_type": "code",
      "source": [
        "#sns.distplot(toy[\"tip\"])\n",
        "\n",
        "#Plotting only histogram\n",
        "sns.distplot(toy[\"tip\"],kde=False)\n",
        "\n",
        "#Plotting only kde\n",
        "sns.distplot(toy[\"tip\"],hist=False)\n",
        "\n",
        "#Plotting only rugplot\n",
        "sns.distplot(toy[\"tip\"],hist=False,kde=False,rug=True)"
      ],
      "metadata": {
        "id": "yMnUilD0yTM5"
      },
      "execution_count": null,
      "outputs": []
    }
  ]
}