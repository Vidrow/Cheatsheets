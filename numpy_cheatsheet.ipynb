{
  "nbformat": 4,
  "nbformat_minor": 0,
  "metadata": {
    "colab": {
      "name": "numpy_cheatsheet.ipynb",
      "provenance": [],
      "collapsed_sections": []
    },
    "kernelspec": {
      "name": "python3",
      "display_name": "Python 3"
    },
    "language_info": {
      "name": "python"
    }
  },
  "cells": [
    {
      "cell_type": "markdown",
      "source": [
        "**NUMPY CHEATSHEET**"
      ],
      "metadata": {
        "id": "vQk2pMcJuSny"
      }
    },
    {
      "cell_type": "code",
      "source": [
        "import numpy as np"
      ],
      "metadata": {
        "id": "jpY0YzftZQzK"
      },
      "execution_count": 2,
      "outputs": []
    },
    {
      "cell_type": "markdown",
      "source": [
        "***WAYS TO CREATE NUMPY ARRAY***"
      ],
      "metadata": {
        "id": "avgn8yZfu5HD"
      }
    },
    {
      "cell_type": "code",
      "source": [
        "#Create numpy array\n",
        "\n",
        "arr1=np.array([4,5,7,3]) #1d array or vector\n",
        "arr1\n",
        "\n",
        "arr2=np.array([[1,3,4,5],[6,5,2,4]]) #2d array or matrix\n",
        "arr2\n",
        "\n",
        "arr3=np.zeros((2,4)) #we pass tuple to define shapr (row,col)\n",
        "arr3\n",
        "\n",
        "#default datatype is float as you can see 1.,1., when using ones() and zeros()\n",
        "\n",
        "arr4=np.ones((4,3)) #we pass tuple to define shapr (row,col)\n",
        "arr4\n",
        "\n",
        "arr5 = np.identity(6) #This will create 6x6 identity matrix\n",
        "arr5\n",
        "\n",
        "arr6= np.arange(5,20,2) #creates 1d array... arange(initial,final,jump)\n",
        "arr6\n",
        "\n",
        "arr7=np.linspace(10,30,20) #Returns evenly spaced numbers over a specified interval.\n",
        "arr7\n",
        "\n",
        "arr8 = arr4.copy() # copies existing array\n",
        "arr8\n",
        "\n",
        "\n",
        "\n"
      ],
      "metadata": {
        "id": "SzBPawzBcIya"
      },
      "execution_count": null,
      "outputs": []
    },
    {
      "cell_type": "markdown",
      "source": [
        "***PROPERTIES AND ATTRIBUTES***"
      ],
      "metadata": {
        "id": "SxYcITTtuFl6"
      }
    },
    {
      "cell_type": "code",
      "source": [
        "#PROPERTIES AND ATTRIBUTES\n",
        "arr1=np.array([1,5,6,7]) #1d array\n",
        "arr2=np.array([[3,4,5,3],[7,3,1,4]]) #2d array\n",
        "arr3=np.array([[[1,3,5,6],[6,7,8,2]],[[4,5,7,9],[3,4,6,9]]]) #3d array\n",
        "\n",
        "arr3.shape #returns shape of array\n",
        "arr3.ndim #returns dimension of array\n",
        "arr3.size #returns number of items in array\n",
        "arr1.itemsize #returns size of datatype used\n",
        "arr1.dtype #returns datatype in array\n",
        "arr1=arr1.astype('int32') #cahanges the datatype of array\n"
      ],
      "metadata": {
        "id": "5Lbhtzl8hcib"
      },
      "execution_count": null,
      "outputs": []
    },
    {
      "cell_type": "markdown",
      "source": [
        "***LIST vs ARRAY***\n"
      ],
      "metadata": {
        "id": "XGLDu9T7q5CD"
      }
    },
    {
      "cell_type": "code",
      "source": [
        "#Space Comparision\n",
        "#Numpy array takes up less space than python list\n",
        "\n",
        "import sys\n",
        "\n",
        "list1=list(range(100))\n",
        "arr1=np.arange(100,dtype='int32')\n",
        "\n",
        "print(\"list space=\",sys.getsizeof(67)*len(list1))\n",
        "print(\"array space=\",arr1.itemsize*arr1.size)"
      ],
      "metadata": {
        "id": "mJQ6UU4Om50B"
      },
      "execution_count": null,
      "outputs": []
    },
    {
      "cell_type": "code",
      "source": [
        "#Time Comparision\n",
        "#Numpy array take less time than list\n",
        "import time\n",
        "\n",
        "list1=list(range(10000000))\n",
        "list2=list(range(10000000,20000000))\n",
        "\n",
        "list_start_time = time.time()\n",
        "add_list=[x+y for x,y in zip(list1,list2)]\n",
        "print(\"list Time = \",time.time()-list_start_time)\n",
        "\n",
        "\n",
        "arr1=np.arange(10000000)\n",
        "arr2=np.arange(10000000,20000000)\n",
        "\n",
        "arr_start_time = time.time()\n",
        "\n",
        "add_arr = arr1 + arr2\n",
        "\n",
        "print(\"array time = \",time.time()-arr_start_time)\n"
      ],
      "metadata": {
        "id": "Byn5gP9VrXdB"
      },
      "execution_count": null,
      "outputs": []
    },
    {
      "cell_type": "markdown",
      "source": [
        "***INDEXING SLICING ITERATION***"
      ],
      "metadata": {
        "id": "5LWur_QQbkTY"
      }
    },
    {
      "cell_type": "code",
      "source": [
        "arr1=np.array([3,5,6,7,4,2])\n",
        "arr1[:3] #slicing\n",
        "arr1[5] #indexing \n",
        "\n",
        "\n",
        "arr2=np.arange(48).reshape(12,4) #reshaping accoording to num f elements(row,col)\n",
        "print(arr2)\n",
        "arr2[:,2:4]  # [startrow:endrow , startcol:endcol]\n",
        "arr2[[2,3,4]] # gets 3,4,5 row from array\n",
        "arr2[0][2] #gets first row second column element\n",
        "arr2[2:4 , 1:3]\n",
        "\n",
        "for i in arr2: #prints rows in array\n",
        "  print(i)\n",
        "\n",
        "for i in np.nditer(arr2): # np.nditer(array) returns element in array\n",
        "  print(i)"
      ],
      "metadata": {
        "id": "oFrCqv1wbr1G"
      },
      "execution_count": null,
      "outputs": []
    },
    {
      "cell_type": "markdown",
      "source": [
        "***OPERATIONS***"
      ],
      "metadata": {
        "id": "ek8QVUIyn0fG"
      }
    },
    {
      "cell_type": "code",
      "source": [
        "\n",
        "arr1=np.arange(5)\n",
        "arr2=np.arange(5,10)\n",
        "\n",
        "print(\"vector subtraction  \",arr1 - arr2)\n",
        "print(\"vector multiplication  \",arr1 * arr2)\n",
        "\n",
        "print(\"scalar multiplication \",arr2*5)\n",
        "\n",
        "arr1>5 #boolean result comparision\n",
        "\n",
        "arr1.dot(arr2) #performs dot multiplication if PxQ and MxN Q==M\n",
        "arr1.min() #returns min value from array\n",
        "arr2.max() #returns max value from array\n",
        "arr1.sum() #adds all the value from array\n",
        "arr1.mean() #returns mean\n",
        "arr2.std() #returns standard deviation\n",
        "np.median(arr2)\n",
        "np.sin(arr1)\n",
        "np.exp(arr2)\n",
        "#There are more such functions \n",
        "\n",
        "arr3=np.arange(12).reshape(3,4)\n",
        "arr3.mean(axis=0) #returns mean column wise\n",
        "arr3.mean(axis=1) #returns mean row wise\n"
      ],
      "metadata": {
        "id": "kGdTghNjn45I"
      },
      "execution_count": null,
      "outputs": []
    },
    {
      "cell_type": "markdown",
      "source": [
        "***RESHAPING***"
      ],
      "metadata": {
        "id": "i2E-GUtiuw3I"
      }
    },
    {
      "cell_type": "code",
      "source": [
        "\n",
        "arr1=np.arange(12).reshape(4,3)\n",
        "arr2=np.arange(12,24).reshape(4,3)\n",
        "\n",
        "arr1.reshape(2,6) # rows and col should be factor of array size\n",
        "\n",
        "arr1.ravel() # It coverts higher dimension array to 1d\n",
        "arr1.transpose() #converts row=>col and col=>rows\n",
        "np.hstack((arr1,arr2)) #stacks arrays horizontally\n",
        "np.vstack((arr1,arr2,arr1)) #stacks arrays vertically\n",
        "print(arr2)\n",
        "np.hsplit(arr2,3) #splits every row equally and stores splitted row top to bottom\n",
        "np.vsplit(arr2,4) #splits every col equally and stores splitted row top to bottom\n"
      ],
      "metadata": {
        "id": "OUeLx1HIu0VF"
      },
      "execution_count": null,
      "outputs": []
    },
    {
      "cell_type": "markdown",
      "source": [
        "***INDEXING WITH BOOLEAN ARRAY***"
      ],
      "metadata": {
        "id": "VFA75-RN6X4t"
      }
    },
    {
      "cell_type": "code",
      "source": [
        "arr1 = np.random.randint(low=1,high=100,size=20).reshape(4,5)\n",
        "\n",
        "arr1>67 # this returns boolean value of the satisfied element in array\n",
        "\n",
        "arr1[arr1>67] #this returns elemnt which has true boolean value\n",
        "\n",
        "arr1[(arr1>80) & (arr1<90)]=0 #we can play with boolean values\n",
        "arr1"
      ],
      "metadata": {
        "id": "GOU1pKE56cTm"
      },
      "execution_count": null,
      "outputs": []
    },
    {
      "cell_type": "markdown",
      "source": [
        "***PLOTTING GRAPHS USING NUMPY***"
      ],
      "metadata": {
        "id": "BcAoRvjR9Bya"
      }
    },
    {
      "cell_type": "code",
      "source": [
        "import matplotlib.pyplot as plt\n",
        "%matplotlib inline\n",
        "\n",
        "x= np.linspace(-40,34,100)\n",
        "y=np.sin(x)\n",
        "z=x*x+2*x+x\n",
        "plt.plot(x,z)"
      ],
      "metadata": {
        "id": "CKfqYFQy9G1N"
      },
      "execution_count": null,
      "outputs": []
    },
    {
      "cell_type": "markdown",
      "source": [
        "***BROADCASTING***"
      ],
      "metadata": {
        "id": "gys00RmGBxD8"
      }
    },
    {
      "cell_type": "code",
      "source": [
        "#Broadcasting is a concept in numpy which allows you to perform arithmetic operation on arrays with dissimilar shapes\n",
        "#The smaller array makes itself in shape of bigger array\n",
        "#eg arr1=[5] and arr2 = [2,3,4] so if you add these array the arr1 will become [5,5,5] and then adds to arr2.\n",
        "\n",
        "arr1=np.array([5])\n",
        "arr2=np.array([2,3,4])\n",
        "arr1+arr2 #[7,8,9]\n",
        "\n",
        "#Rules 1\n",
        "arr3=np.arange(3).reshape(1,3)\n",
        "arr4=np.arange(12).reshape(4,3)\n",
        "arr3+arr4 # possible only if arr3(1,x) and arr2(p,x)\n",
        "\n",
        "#Rule 2\n",
        "arr3=np.arange(3).reshape(1,3)\n",
        "arr4=np.arange(3).reshape(3,1)\n",
        "arr3-arr4 # possible only if arr3(1,x) and arr2(x,1)\n",
        "\n",
        "#Rule 3\n",
        "arr3=np.arange(1).reshape(1,1)\n",
        "arr4=np.arange(12).reshape(3,4)\n",
        "arr3 + arr4 # possible only if arr3(1,1) then other array dosen't matter\n",
        "\n",
        "#Works well even if they are of different dimensions"
      ],
      "metadata": {
        "id": "MjrTZakjB0KN"
      },
      "execution_count": null,
      "outputs": []
    },
    {
      "cell_type": "markdown",
      "source": [
        "***IMPORTANT FUNCTIONS***"
      ],
      "metadata": {
        "id": "2zivLcp-bxbU"
      }
    },
    {
      "cell_type": "code",
      "source": [
        "arr1=np.random.uniform(1,100,6) #generates random floating array of size 6\n",
        "\n",
        "arr2=np.random.randint(1,100,6) #generates random integer array of size 6\n",
        "\n",
        "np.argmax(arr1) #returns index of max element\n",
        "\n",
        "arr2[arr2%2==0]=0 #This changes original array\n",
        "\n",
        "mod_arr2=np.where((arr2%2==0),1,0) # This creates another modified array where(con,true,false)\n",
        "\n",
        "np.percentile(arr1,50) #returns 50th percentile value"
      ],
      "metadata": {
        "id": "7sL90jLAb2BC"
      },
      "execution_count": null,
      "outputs": []
    }
  ]
}