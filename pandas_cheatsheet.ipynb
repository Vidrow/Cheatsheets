{
  "nbformat": 4,
  "nbformat_minor": 0,
  "metadata": {
    "colab": {
      "name": "pandas_cheatsheet.ipynb",
      "provenance": [],
      "collapsed_sections": []
    },
    "kernelspec": {
      "name": "python3",
      "display_name": "Python 3"
    },
    "language_info": {
      "name": "python"
    }
  },
  "cells": [
    {
      "cell_type": "markdown",
      "source": [
        "**PANDAS CHEATSHEET**"
      ],
      "metadata": {
        "id": "YSDz7rvYJdBM"
      }
    },
    {
      "cell_type": "code",
      "source": [
        "import numpy as np\n",
        "import pandas as pd"
      ],
      "metadata": {
        "id": "CzqPxY5NMIJX"
      },
      "execution_count": null,
      "outputs": []
    },
    {
      "cell_type": "markdown",
      "source": [
        "***IMPORTING CSV FILE***"
      ],
      "metadata": {
        "id": "0384Wu1HNJwS"
      }
    },
    {
      "cell_type": "code",
      "source": [
        "data=pd.read_csv('dataset/matches.csv')\n",
        "data"
      ],
      "metadata": {
        "id": "z8o3dtq4NP4T"
      },
      "execution_count": null,
      "outputs": []
    },
    {
      "cell_type": "markdown",
      "source": [
        "***IMPORTANT FUNCTIONS AND ATTRIBUTES***"
      ],
      "metadata": {
        "id": "8HlOjJRFNRMz"
      }
    },
    {
      "cell_type": "code",
      "source": [
        "data.head() #previews top 5(default) or n rows in dataframe\n",
        "data.tail() #previews bottom 5(default) or n rows in dataframe\n",
        "data.shape #returns (rows,column) of dataframe\n",
        "data.info() #shows info about dataframe\n",
        "data.describe() #shows numericallly calculated info on dataframe\n",
        "data['winner'].value_counts() #performs categorical calculations on objects\n",
        "data.rename(columns={\"date\":\"dom\"}) #renaming the attributes"
      ],
      "metadata": {
        "id": "JLMXreEvNXTJ"
      },
      "execution_count": null,
      "outputs": []
    },
    {
      "cell_type": "markdown",
      "source": [
        "***FETCHING ROWS AND COLUMN***"
      ],
      "metadata": {
        "id": "UfRv_TXzRN7x"
      }
    },
    {
      "cell_type": "code",
      "source": [
        "#fetching single column\n",
        "data['winner'] \n",
        "data.iloc[:,6]\n",
        "\n",
        "#fetching multiple column\n",
        "data[['team1','team2','winner']]\n",
        "data.iloc[:,[4,7,8]]\n",
        "\n",
        "#fetching single row\n",
        "data.iloc[0]\n",
        "\n",
        "#fetching multiple rows\n",
        "data.iloc[0:4]\n",
        "data.iloc[[3,5,7,8]]\n",
        "\n",
        "#fetching desired rows and column\n",
        "data.iloc[3:5,[5,7,8]]"
      ],
      "metadata": {
        "id": "lewYCm4CRSrr"
      },
      "execution_count": null,
      "outputs": []
    },
    {
      "cell_type": "markdown",
      "source": [
        "***FILTERING DATAFRAME ON CONDITION***"
      ],
      "metadata": {
        "id": "LjAf4p9KVlnU"
      }
    },
    {
      "cell_type": "code",
      "source": [
        "#This is called masking.Filtering by boolean values.\n",
        "mask1=data['city']=='Pune'\n",
        "data[mask]\n",
        "\n",
        "mask2=data['date']>'2016-05-22'\n",
        "\n",
        "mask3=data[mask1 & mask2]\n",
        "mask3\n"
      ],
      "metadata": {
        "id": "Wn6FZeqYVrj5"
      },
      "execution_count": null,
      "outputs": []
    },
    {
      "cell_type": "markdown",
      "source": [
        "***PANDAS PLOT FUNCTION***"
      ],
      "metadata": {
        "id": "wX94c9UCkH98"
      }
    },
    {
      "cell_type": "code",
      "source": [
        "win=data['winner'].value_counts()\n",
        "\n",
        "#win.plot(kind='barh')\n",
        "\n",
        "toss=data['toss_decision'].value_counts()\n",
        "#toss.plot(kind='pie')\n",
        "\n",
        "runs=data['win_by_runs']\n",
        "runs.plot(kind='hist') #use hist for numerical values"
      ],
      "metadata": {
        "id": "dpAqpwHykM4L"
      },
      "execution_count": null,
      "outputs": []
    },
    {
      "cell_type": "markdown",
      "source": [
        "***SERIES OPERATIONS***"
      ],
      "metadata": {
        "id": "MaMEbQeUojVg"
      }
    },
    {
      "cell_type": "code",
      "source": [
        "first=data['team1'].value_counts()\n",
        "second=data['team2'].value_counts()\n",
        "\n",
        "first.values #returns values of series in an array\n",
        "first.index #returns index of series in an array\n",
        "\n",
        "#calculating total matches played by teams\n",
        "\n",
        "first+second #you can perform math operation if two series"
      ],
      "metadata": {
        "id": "njTioqRQom7F"
      },
      "execution_count": null,
      "outputs": []
    },
    {
      "cell_type": "markdown",
      "source": [
        "***SORTING***"
      ],
      "metadata": {
        "id": "WAFX0sPur0w3"
      }
    },
    {
      "cell_type": "code",
      "source": [
        "#sort_values() works with both series and dataframe\n",
        "\n",
        "data.sort_values('date') #default ascending=True and inplace=False(permanent change)\n",
        "\n",
        "data.sort_values(['date','city'],ascending=[True,False]) #sort with multiple condition"
      ],
      "metadata": {
        "id": "5zGy2Hxyr38Q"
      },
      "execution_count": null,
      "outputs": []
    },
    {
      "cell_type": "markdown",
      "source": [
        "***DROP DUPLICATES***"
      ],
      "metadata": {
        "id": "bvl3P8Y2ugxX"
      }
    },
    {
      "cell_type": "code",
      "source": [
        "\n",
        "data.drop_duplicates(subset='city') #keep=first(default)\n",
        "\n",
        "#find winner of each season\n",
        "\n",
        "data.drop_duplicates(subset='season',keep='last')[['season','winner']].sort_values('season')"
      ],
      "metadata": {
        "id": "vit6Si4BulPY"
      },
      "execution_count": null,
      "outputs": []
    },
    {
      "cell_type": "markdown",
      "source": [
        "***GROUP BY FUNCTION***"
      ],
      "metadata": {
        "id": "A8WrY1SXesk7"
      }
    },
    {
      "cell_type": "code",
      "source": [
        "#GROUP BY FUNCTION ON FORTUNE DATASET\n",
        "fortune=pd.read_csv('dataset/fortune.csv',encoding='latin-1')\n",
        "\n",
        "sector=fortune.groupby('Sector') #groups according to each sector in rows\n",
        "sector.size().sort_values(ascending=False)\n",
        "len(sector)\n",
        "sector.first() #returns first company of every first sector\n",
        "sector.groups #returns a dict in which every key is sector and their values are list of index of those companies in sector\n",
        "sector.get_group('Apparel') #returns companies in that sector\n",
        "sector['Revenues'].mean().sort_values(ascending=False) #returns series of sector revenue"
      ],
      "metadata": {
        "id": "3p77fLH5eyI0"
      },
      "execution_count": null,
      "outputs": []
    },
    {
      "cell_type": "code",
      "source": [
        "#GROUP BY FUNCTION ON IPL DATASET\n",
        "deliveries=pd.read_csv('dataset/deliveries.csv')\n",
        "\n",
        "batsman=deliveries.groupby('batsman') #groups all the batsman name and their columns\n",
        "batsman['batsman_runs'].sum().sort_values(ascending=False).head() #returns top 5 most run scoring batsman\n",
        "\n",
        "#finding top 5 batsman who scored most 4\n",
        "mask=deliveries['batsman_runs']==4\n",
        "new_deliveries=deliveries[mask] #we created new dataframe which has only four runs scored\n",
        "new_batsman=new_deliveries.groupby('batsman')\n",
        "new_batsman['batsman_runs'].count().sort_values(ascending=False).head(10)\n",
        "\n",
        "#find aginst which three teams virat has scored max runs\n",
        "vk=deliveries[deliveries['batsman']=='V Kohli']\n",
        "vk.groupby('bowling_team')['batsman_runs'].sum().sort_values(ascending=False).head(3)\n",
        "\n",
        "\n",
        "#Function which shows against which team which batsman scored the highest\n",
        "def max_runs_scored(batsman_name):\n",
        "  vk=deliveries[deliveries['batsman']==batsman_name]\n",
        "  result=vk.groupby('bowling_team')['batsman_runs'].sum().sort_values(ascending=False).head(3).index[2]\n",
        "  return result\n",
        "\n",
        "max_runs_scored('RG Sharma')"
      ],
      "metadata": {
        "id": "Pm6plrs9m2it",
        "colab": {
          "base_uri": "https://localhost:8080/",
          "height": 35
        },
        "outputId": "780bb9d7-a5bc-4ebd-dc2a-cdcb48c9c13f"
      },
      "execution_count": null,
      "outputs": [
        {
          "output_type": "execute_result",
          "data": {
            "application/vnd.google.colaboratory.intrinsic+json": {
              "type": "string"
            },
            "text/plain": [
              "'Kings XI Punjab'"
            ]
          },
          "metadata": {},
          "execution_count": 9
        }
      ]
    },
    {
      "cell_type": "markdown",
      "source": [
        "***isin()***"
      ],
      "metadata": {
        "id": "7q8tlgrb6fji"
      }
    },
    {
      "cell_type": "code",
      "source": [
        "#Find the most destructive batsman in death over\n",
        "\n",
        "\n",
        "new_set = deliveries[deliveries['over']>15]\n",
        "new_group = new_set.groupby('batsman')['ball'].count()\n",
        "\n",
        "#list of batsman who has played more than 200 balls\n",
        "batsman_200_balls=new_group[new_group > 200].index.tolist() \n",
        "\n",
        "\n",
        "#the final set is dataframe containing batsman who have played more than 200 balls\n",
        "final_set = new_set[new_set['batsman'].isin(batsman_200_balls)]\n",
        "\n",
        "balls_played=final_set.groupby('batsman')['ball'].count()\n",
        "runs_scored=final_set.groupby('batsman')['batsman_runs'].sum()\n",
        "strike_rate = (runs_scored/balls_played) *100\n",
        "strike_rate.sort_values(ascending=False).head(3)\n"
      ],
      "metadata": {
        "id": "Wpy51HYi6kUV"
      },
      "execution_count": null,
      "outputs": []
    },
    {
      "cell_type": "markdown",
      "source": [
        "***Merge Function***"
      ],
      "metadata": {
        "id": "zB7f8-IsXBs-"
      }
    },
    {
      "cell_type": "code",
      "source": [
        "#use this function when you have to join two dataframe\n",
        "#make a list of orange cap players\n",
        "new=data.merge(deliveries,left_on=\"id\",right_on=\"match_id\")\n",
        "#using multi index groupby\n",
        "#reset_index() converts series to dataframe\n",
        "\n",
        "new.groupby([\"season\",\"batsman\"])[\"batsman_runs\"].sum().sort_values(ascending=False).reset_index().drop_duplicates(subset=\"season\",keep=\"first\")[[\"season\",\"batsman\"]]\n",
        "\n"
      ],
      "metadata": {
        "id": "WtGgBlzcXIUk"
      },
      "execution_count": null,
      "outputs": []
    },
    {
      "cell_type": "markdown",
      "source": [
        "***Pivot Table***"
      ],
      "metadata": {
        "id": "txkGkDCDQH-y"
      }
    },
    {
      "cell_type": "code",
      "source": [
        "#it summerizes the rows and columns in one datarframe\n",
        "\n",
        "new_dataset=deliveries[deliveries[\"batsman_runs\"]==6]\n",
        "new_dataset.pivot_table(index=\"over\",columns=\"batting_team\",values=\"batsman_runs\",aggfunc=\"count\")\n"
      ],
      "metadata": {
        "id": "CHd1VSUUQLin"
      },
      "execution_count": null,
      "outputs": []
    },
    {
      "cell_type": "markdown",
      "source": [
        "***Corr Function***"
      ],
      "metadata": {
        "id": "DtLoPFHiUKMf"
      }
    },
    {
      "cell_type": "code",
      "source": [
        "#use corr fdunction if you want to deduce have two numerical values are varying\n",
        "\n",
        "deliveries.corr()"
      ],
      "metadata": {
        "id": "hnGcFdKOUNZ0"
      },
      "execution_count": null,
      "outputs": []
    },
    {
      "cell_type": "markdown",
      "source": [
        "***Set and reset index Function***"
      ],
      "metadata": {
        "id": "6hUh7t72a4Cj"
      }
    },
    {
      "cell_type": "code",
      "source": [
        "#data.set_index(\"id\",inplace=True) #changes the default index\n",
        "#data.reset_index(inplace=True)\n",
        "\n",
        "#reset_index also converts series to dataframe\n",
        "\n",
        "data[\"winner\"].value_counts().reset_index().set_index(\"index\")\n"
      ],
      "metadata": {
        "id": "14RFNb47a8kO"
      },
      "execution_count": null,
      "outputs": []
    },
    {
      "cell_type": "markdown",
      "source": [
        "***Handling missing values***"
      ],
      "metadata": {
        "id": "2VpS0aYtc7lu"
      }
    },
    {
      "cell_type": "code",
      "source": [
        "#dropna()\n",
        "#if you want to delete the rows or column with NaN values use this\n",
        "\n",
        "data.dropna(axis=0,how=\"any\") #if any of the the column have Nan then delete that row\n",
        "\n",
        "data.dropna(axis=1,how=\"all\") #if all the the rows have NaN then delete that column\n",
        "\n",
        "data.dropna(axis=1,how=\"all\",subset=[\"winner\",\"batsman\"]) #delete column if all the values in winner or batsman is NaN\n"
      ],
      "metadata": {
        "id": "lKds3nVRc_4I"
      },
      "execution_count": null,
      "outputs": []
    },
    {
      "cell_type": "code",
      "source": [
        "#fillna()\n",
        "\n",
        "#to replace the missing values use this\n",
        "\n",
        "data['batsman'].fillna(\"Not specified\")\n",
        "\n",
        "data['batsman_runs'].fillna(method=\"ffill\") #ffill stores behind value and bfill stores ahead value\n"
      ],
      "metadata": {
        "id": "TEw8WeN0f2n2"
      },
      "execution_count": null,
      "outputs": []
    }
  ]
}